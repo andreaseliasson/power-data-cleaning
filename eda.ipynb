{
 "cells": [
  {
   "cell_type": "code",
   "execution_count": 43,
   "metadata": {
    "collapsed": true,
    "deletable": true,
    "editable": true
   },
   "outputs": [],
   "source": [
    "import pandas as pd\n",
    "import numpy as np\n",
    "import json"
   ]
  },
  {
   "cell_type": "code",
   "execution_count": 3,
   "metadata": {
    "collapsed": false,
    "deletable": true,
    "editable": true
   },
   "outputs": [],
   "source": [
    "df = pd.read_csv('../../orig-power-soton-page-flow.csv')"
   ]
  },
  {
   "cell_type": "code",
   "execution_count": 4,
   "metadata": {
    "collapsed": false,
    "deletable": true,
    "editable": true
   },
   "outputs": [],
   "source": [
    "# Create a new transformed dataset with rows of source and target pages\n",
    "df_transformed = pd.DataFrame(\n",
    "    columns = ['user_number', 'session_number', 'session_start_time', 'source', 'source_duration', 'target']\n",
    ")\n",
    "column_names = df.columns.values.tolist()\n",
    "new_row_index = 0\n",
    "for index, row in df.iterrows():\n",
    "    for column_name in column_names:\n",
    "        if 'Unnamed' in column_name and not int(column_name[9:]) % 2 == 0 and pd.notnull(df.loc[index, column_name]):\n",
    "            column_number = int(column_name[9:])\n",
    "            if column_number <= 167:\n",
    "                df_transformed.set_value(new_row_index, 'source', row[column_name])\n",
    "                df_transformed.set_value(new_row_index, 'source_duration', row[column_name[:9] + str(column_number + 1)])\n",
    "            if column_number <= 166:\n",
    "                df_transformed.set_value(new_row_index, 'target', row[column_name[:9] + str(column_number + 2)])\n",
    "            \n",
    "            df_transformed.set_value(new_row_index, 'user_number', row['user number'])\n",
    "            df_transformed.set_value(new_row_index, 'session_number', row['session number'])\n",
    "            df_transformed.set_value(new_row_index, 'session_start_time', row['session start time'])\n",
    "            \n",
    "            new_row_index += 1"
   ]
  },
  {
   "cell_type": "code",
   "execution_count": 5,
   "metadata": {
    "collapsed": true,
    "deletable": true,
    "editable": true
   },
   "outputs": [],
   "source": [
    "# dump transformed dataset to csv file\n",
    "df_transformed.to_csv('./data/power-page-flow-transformed-data.csv', na_rep = 'None', index = False)"
   ]
  },
  {
   "cell_type": "code",
   "execution_count": 54,
   "metadata": {
    "collapsed": false,
    "deletable": true,
    "editable": true
   },
   "outputs": [],
   "source": [
    "# count the number of unique source and target pairs\n",
    "df_traffic_pairs = df_transformed.groupby(['source', 'target']).size().reset_index().rename(columns={0:'value'})"
   ]
  },
  {
   "cell_type": "code",
   "execution_count": 55,
   "metadata": {
    "collapsed": false
   },
   "outputs": [],
   "source": [
    "# store traffic pairs as a list\n",
    "traffic_pairs_list = df_traffic_pairs.to_dict(orient='record')"
   ]
  },
  {
   "cell_type": "code",
   "execution_count": 72,
   "metadata": {
    "collapsed": false,
    "deletable": true,
    "editable": true
   },
   "outputs": [],
   "source": [
    "# count the number times a source page appears (visits)\n",
    "source_visits = df_transformed.groupby('source').size().reset_index().rename(columns={'source': 'name', 0: 'visits'})"
   ]
  },
  {
   "cell_type": "code",
   "execution_count": 65,
   "metadata": {
    "collapsed": false
   },
   "outputs": [],
   "source": [
    "# store pages and their number of visits as a list \n",
    "page_list = source_visits.to_dict(orient='records')"
   ]
  },
  {
   "cell_type": "code",
   "execution_count": 67,
   "metadata": {
    "collapsed": false
   },
   "outputs": [],
   "source": [
    "# create a helper mapper dictionary for querying its index in the page list\n",
    "nodes_dict_map = {}\n",
    "for index, page in enumerate(page_list):\n",
    "    nodes_dict_map[page['name']] = index"
   ]
  },
  {
   "cell_type": "code",
   "execution_count": 68,
   "metadata": {
    "collapsed": false
   },
   "outputs": [],
   "source": [
    "# create a list of dict with source and target represented by their respective index in the page list\n",
    "traffic_pairs_with_index = []\n",
    "for pair in traffic_pairs_list:\n",
    "    traffic_pairs_with_index.append({\n",
    "        'source': nodes_dict_map[pair['source']],\n",
    "        'target': nodes_dict_map[pair['target']],\n",
    "        'value': pair['value']\n",
    "    })"
   ]
  },
  {
   "cell_type": "code",
   "execution_count": 69,
   "metadata": {
    "collapsed": false,
    "deletable": true,
    "editable": true
   },
   "outputs": [],
   "source": [
    "# initial representation of flow dict\n",
    "flow_dict = {\n",
    "    'nodes': [{'name': '', 'visits': 0, 'avg_page_duration': 0}],\n",
    "    'links': [{'source': 0, 'target': 1, 'value': 0, 'user_number': []}]\n",
    "}"
   ]
  },
  {
   "cell_type": "code",
   "execution_count": 70,
   "metadata": {
    "collapsed": true,
    "deletable": true,
    "editable": true
   },
   "outputs": [],
   "source": [
    "flow_dict['nodes'] = page_list\n",
    "flow_dict['links'] = traffic_pairs_with_index"
   ]
  },
  {
   "cell_type": "code",
   "execution_count": 71,
   "metadata": {
    "collapsed": false
   },
   "outputs": [],
   "source": [
    "with open('./data/page-flow.json', 'w') as fp:\n",
    "    json.dump(flow_dict, fp, sort_keys=True, indent=2)"
   ]
  },
  {
   "cell_type": "code",
   "execution_count": null,
   "metadata": {
    "collapsed": true
   },
   "outputs": [],
   "source": []
  }
 ],
 "metadata": {
  "kernelspec": {
   "display_name": "Python 3",
   "language": "python",
   "name": "python3"
  },
  "language_info": {
   "codemirror_mode": {
    "name": "ipython",
    "version": 3
   },
   "file_extension": ".py",
   "mimetype": "text/x-python",
   "name": "python",
   "nbconvert_exporter": "python",
   "pygments_lexer": "ipython3",
   "version": "3.5.2"
  }
 },
 "nbformat": 4,
 "nbformat_minor": 2
}
