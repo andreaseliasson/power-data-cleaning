{
 "cells": [
  {
   "cell_type": "code",
   "execution_count": 1,
   "metadata": {
    "collapsed": true,
    "deletable": true,
    "editable": true
   },
   "outputs": [],
   "source": [
    "import pandas as pd\n",
    "import numpy as np"
   ]
  },
  {
   "cell_type": "code",
   "execution_count": 2,
   "metadata": {
    "collapsed": false,
    "deletable": true,
    "editable": true
   },
   "outputs": [],
   "source": [
    "df = pd.read_csv('../../orig-power-soton-page-flow.csv')"
   ]
  },
  {
   "cell_type": "code",
   "execution_count": 24,
   "metadata": {
    "collapsed": false,
    "deletable": true,
    "editable": true
   },
   "outputs": [],
   "source": [
    "# Create a new transformed dataset with rows of source and target pages\n",
    "df_transformed = pd.DataFrame(\n",
    "    columns = ['user_number', 'session_number', 'session_start_time', 'source', 'source_duration', 'target']\n",
    ")\n",
    "column_names = df.columns.values.tolist()\n",
    "new_row_index = 0\n",
    "for index, row in df.iterrows():\n",
    "    for column_name in column_names:\n",
    "        if 'Unnamed' in column_name and not int(column_name[9:]) % 2 == 0 and pd.notnull(df.loc[index, column_name]):\n",
    "            column_number = int(column_name[9:])\n",
    "            if column_number <= 167:\n",
    "                df_transformed.set_value(new_row_index, 'source', row[column_name])\n",
    "                df_transformed.set_value(new_row_index, 'source_duration', row[column_name[:9] + str(column_number + 1)])\n",
    "            if column_number <= 166:\n",
    "                df_transformed.set_value(new_row_index, 'target', row[column_name[:9] + str(column_number + 2)])\n",
    "            \n",
    "            df_transformed.set_value(new_row_index, 'user_number', row['user number'])\n",
    "            df_transformed.set_value(new_row_index, 'session_number', row['session number'])\n",
    "            df_transformed.set_value(new_row_index, 'session_start_time', row['session start time'])\n",
    "            \n",
    "            new_row_index += 1"
   ]
  },
  {
   "cell_type": "code",
   "execution_count": 26,
   "metadata": {
    "collapsed": true
   },
   "outputs": [],
   "source": [
    "# dump transformed dataset to csv file\n",
    "df_transformed.to_csv('./data/power-page-flow-transformed-data.csv')"
   ]
  },
  {
   "cell_type": "code",
   "execution_count": null,
   "metadata": {
    "collapsed": true
   },
   "outputs": [],
   "source": []
  }
 ],
 "metadata": {
  "kernelspec": {
   "display_name": "Python 3",
   "language": "python",
   "name": "python3"
  },
  "language_info": {
   "codemirror_mode": {
    "name": "ipython",
    "version": 3
   },
   "file_extension": ".py",
   "mimetype": "text/x-python",
   "name": "python",
   "nbconvert_exporter": "python",
   "pygments_lexer": "ipython3",
   "version": "3.5.2"
  }
 },
 "nbformat": 4,
 "nbformat_minor": 2
}
